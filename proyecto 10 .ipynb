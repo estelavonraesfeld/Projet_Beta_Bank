{
 "cells": [
  {
   "cell_type": "markdown",
   "metadata": {},
   "source": [
    "Hola **Estela**!\n",
    "\n",
    "Soy **Patricio Requena** 👋. Es un placer ser el revisor de tu proyecto el día de hoy!\n",
    "\n",
    "Revisaré tu proyecto detenidamente con el objetivo de ayudarte a mejorar y perfeccionar tus habilidades. Durante mi revisión, identificaré áreas donde puedas hacer mejoras en tu código, señalando específicamente qué y cómo podrías ajustar para optimizar el rendimiento y la claridad de tu proyecto. Además, es importante para mí destacar los aspectos que has manejado excepcionalmente bien. Reconocer tus fortalezas te ayudará a entender qué técnicas y métodos están funcionando a tu favor y cómo puedes aplicarlos en futuras tareas. \n",
    "\n",
    "_**Recuerda que al final de este notebook encontrarás un comentario general de mi parte**_, empecemos!\n",
    "\n",
    "Encontrarás mis comentarios dentro de cajas verdes, amarillas o rojas, ⚠️ **por favor, no muevas, modifiques o borres mis comentarios** ⚠️:\n",
    "\n",
    "\n",
    "<div class=\"alert alert-block alert-success\">\n",
    "<b>Comentario del revisor</b> <a class=“tocSkip”></a>\n",
    "Si todo está perfecto.\n",
    "</div>\n",
    "\n",
    "<div class=\"alert alert-block alert-warning\">\n",
    "<b>Comentario del revisor</b> <a class=“tocSkip”></a>\n",
    "Si tu código está bien pero se puede mejorar o hay algún detalle que le hace falta.\n",
    "</div>\n",
    "\n",
    "<div class=\"alert alert-block alert-danger\">\n",
    "<b>Comentario del revisor</b> <a class=“tocSkip”></a>\n",
    "Si de pronto hace falta algo o existe algún problema con tu código o conclusiones.\n",
    "</div>\n",
    "\n",
    "Puedes responderme de esta forma:\n",
    "<div class=\"alert alert-block alert-info\">\n",
    "<b>Respuesta del estudiante</b> <a class=“tocSkip”></a>\n",
    "</div>"
   ]
  },
  {
   "cell_type": "markdown",
   "metadata": {},
   "source": [
    "# Proyecto Beta Bank"
   ]
  },
  {
   "cell_type": "markdown",
   "metadata": {},
   "source": [
    "## Descripción del proyecto "
   ]
  },
  {
   "cell_type": "markdown",
   "metadata": {},
   "source": [
    "Los clientes de Beta Bank se están yendo, cada mes, poco a poco. Los banqueros descubrieron que es más barato salvar a los clientes existentes que atraer nuevos.\n",
    "\n",
    "Necesitamos predecir si un cliente dejará el banco pronto. Tú tienes los datos sobre el comportamiento pasado de los clientes y la terminación de contratos con el banco.\n",
    "\n",
    "Crea un modelo con el máximo valor F1 posible. Para aprobar la revisión, necesitas un valor F1 de al menos 0.59. Verifica F1 para el conjunto de prueba. \n",
    "\n",
    "Además, debes medir la métrica AUC-ROC y compararla con el valor F1."
   ]
  },
  {
   "cell_type": "markdown",
   "metadata": {},
   "source": [
    "## Instrucciones del proyecto"
   ]
  },
  {
   "cell_type": "markdown",
   "metadata": {},
   "source": [
    "Descarga y prepara los datos.  Explica el procedimiento.\n",
    "\n",
    "Examina el equilibrio de clases. Entrena el modelo sin tener en cuenta el desequilibrio. Describe brevemente tus hallazgos.\n",
    "\n",
    "Mejora la calidad del modelo. Asegúrate de utilizar al menos dos enfoques para corregir el desequilibrio de clases. Utiliza conjuntos de entrenamiento y validación para encontrar el mejor modelo y el mejor conjunto de parámetros. Entrena diferentes modelos en los conjuntos de entrenamiento y validación. Encuentra el mejor. Describe brevemente tus hallazgos.\n",
    "\n",
    "Realiza la prueba final."
   ]
  },
  {
   "cell_type": "markdown",
   "metadata": {},
   "source": [
    "## Descripción de los datos"
   ]
  },
  {
   "cell_type": "markdown",
   "metadata": {},
   "source": [
    "Puedes encontrar los datos en el archivo  /datasets/Churn.csv file. Descarga el conjunto de datos.\n",
    "\n",
    "Características\n",
    "\n",
    "RowNumber: índice de cadena de datos\n",
    "CustomerId: identificador de cliente único\n",
    "Surname: apellido\n",
    "CreditScore: valor de crédito\n",
    "Geography: país de residencia\n",
    "Gender: sexo\n",
    "Age: edad\n",
    "Tenure: período durante el cual ha madurado el depósito a plazo fijo de un cliente (años)\n",
    "Balance: saldo de la cuenta\n",
    "NumOfProducts: número de productos bancarios utilizados por el cliente\n",
    "HasCrCard: el cliente tiene una tarjeta de crédito (1 - sí; 0 - no)\n",
    "IsActiveMember: actividad del cliente (1 - sí; 0 - no)\n",
    "EstimatedSalary: salario estimado\n",
    "Objetivo\n",
    "\n",
    "Exited: El cliente se ha ido (1 - sí; 0 - no)"
   ]
  },
  {
   "cell_type": "markdown",
   "metadata": {},
   "source": [
    "## Proyecto"
   ]
  },
  {
   "cell_type": "markdown",
   "metadata": {},
   "source": [
    "### Descarga y prepara los datos"
   ]
  },
  {
   "cell_type": "code",
   "execution_count": 1,
   "metadata": {},
   "outputs": [],
   "source": [
    "#importamos librerias\n",
    "import pandas as pd\n",
    "import numpy as np\n",
    "from sklearn.model_selection import train_test_split\n",
    "from sklearn.linear_model import LogisticRegression\n",
    "from sklearn.tree import DecisionTreeClassifier\n",
    "from sklearn.ensemble import RandomForestClassifier\n",
    "from sklearn.metrics import accuracy_score\n",
    "from sklearn.preprocessing import OrdinalEncoder\n",
    "from sklearn.preprocessing import StandardScaler\n",
    "from sklearn.metrics import f1_score\n",
    "from sklearn.metrics import roc_auc_score\n",
    "from sklearn.utils import shuffle\n",
    "from sklearn.metrics import precision_score, recall_score"
   ]
  },
  {
   "cell_type": "code",
   "execution_count": 2,
   "metadata": {},
   "outputs": [],
   "source": [
    "#se cat¿rgaron los datos \n",
    "data = pd.read_csv('/datasets/Churn.csv')"
   ]
  },
  {
   "cell_type": "code",
   "execution_count": 3,
   "metadata": {},
   "outputs": [
    {
     "data": {
      "text/html": [
       "<div>\n",
       "<style scoped>\n",
       "    .dataframe tbody tr th:only-of-type {\n",
       "        vertical-align: middle;\n",
       "    }\n",
       "\n",
       "    .dataframe tbody tr th {\n",
       "        vertical-align: top;\n",
       "    }\n",
       "\n",
       "    .dataframe thead th {\n",
       "        text-align: right;\n",
       "    }\n",
       "</style>\n",
       "<table border=\"1\" class=\"dataframe\">\n",
       "  <thead>\n",
       "    <tr style=\"text-align: right;\">\n",
       "      <th></th>\n",
       "      <th>RowNumber</th>\n",
       "      <th>CustomerId</th>\n",
       "      <th>Surname</th>\n",
       "      <th>CreditScore</th>\n",
       "      <th>Geography</th>\n",
       "      <th>Gender</th>\n",
       "      <th>Age</th>\n",
       "      <th>Tenure</th>\n",
       "      <th>Balance</th>\n",
       "      <th>NumOfProducts</th>\n",
       "      <th>HasCrCard</th>\n",
       "      <th>IsActiveMember</th>\n",
       "      <th>EstimatedSalary</th>\n",
       "      <th>Exited</th>\n",
       "    </tr>\n",
       "  </thead>\n",
       "  <tbody>\n",
       "    <tr>\n",
       "      <th>0</th>\n",
       "      <td>1</td>\n",
       "      <td>15634602</td>\n",
       "      <td>Hargrave</td>\n",
       "      <td>619</td>\n",
       "      <td>France</td>\n",
       "      <td>Female</td>\n",
       "      <td>42</td>\n",
       "      <td>2.0</td>\n",
       "      <td>0.00</td>\n",
       "      <td>1</td>\n",
       "      <td>1</td>\n",
       "      <td>1</td>\n",
       "      <td>101348.88</td>\n",
       "      <td>1</td>\n",
       "    </tr>\n",
       "    <tr>\n",
       "      <th>1</th>\n",
       "      <td>2</td>\n",
       "      <td>15647311</td>\n",
       "      <td>Hill</td>\n",
       "      <td>608</td>\n",
       "      <td>Spain</td>\n",
       "      <td>Female</td>\n",
       "      <td>41</td>\n",
       "      <td>1.0</td>\n",
       "      <td>83807.86</td>\n",
       "      <td>1</td>\n",
       "      <td>0</td>\n",
       "      <td>1</td>\n",
       "      <td>112542.58</td>\n",
       "      <td>0</td>\n",
       "    </tr>\n",
       "    <tr>\n",
       "      <th>2</th>\n",
       "      <td>3</td>\n",
       "      <td>15619304</td>\n",
       "      <td>Onio</td>\n",
       "      <td>502</td>\n",
       "      <td>France</td>\n",
       "      <td>Female</td>\n",
       "      <td>42</td>\n",
       "      <td>8.0</td>\n",
       "      <td>159660.80</td>\n",
       "      <td>3</td>\n",
       "      <td>1</td>\n",
       "      <td>0</td>\n",
       "      <td>113931.57</td>\n",
       "      <td>1</td>\n",
       "    </tr>\n",
       "    <tr>\n",
       "      <th>3</th>\n",
       "      <td>4</td>\n",
       "      <td>15701354</td>\n",
       "      <td>Boni</td>\n",
       "      <td>699</td>\n",
       "      <td>France</td>\n",
       "      <td>Female</td>\n",
       "      <td>39</td>\n",
       "      <td>1.0</td>\n",
       "      <td>0.00</td>\n",
       "      <td>2</td>\n",
       "      <td>0</td>\n",
       "      <td>0</td>\n",
       "      <td>93826.63</td>\n",
       "      <td>0</td>\n",
       "    </tr>\n",
       "    <tr>\n",
       "      <th>4</th>\n",
       "      <td>5</td>\n",
       "      <td>15737888</td>\n",
       "      <td>Mitchell</td>\n",
       "      <td>850</td>\n",
       "      <td>Spain</td>\n",
       "      <td>Female</td>\n",
       "      <td>43</td>\n",
       "      <td>2.0</td>\n",
       "      <td>125510.82</td>\n",
       "      <td>1</td>\n",
       "      <td>1</td>\n",
       "      <td>1</td>\n",
       "      <td>79084.10</td>\n",
       "      <td>0</td>\n",
       "    </tr>\n",
       "    <tr>\n",
       "      <th>...</th>\n",
       "      <td>...</td>\n",
       "      <td>...</td>\n",
       "      <td>...</td>\n",
       "      <td>...</td>\n",
       "      <td>...</td>\n",
       "      <td>...</td>\n",
       "      <td>...</td>\n",
       "      <td>...</td>\n",
       "      <td>...</td>\n",
       "      <td>...</td>\n",
       "      <td>...</td>\n",
       "      <td>...</td>\n",
       "      <td>...</td>\n",
       "      <td>...</td>\n",
       "    </tr>\n",
       "    <tr>\n",
       "      <th>9995</th>\n",
       "      <td>9996</td>\n",
       "      <td>15606229</td>\n",
       "      <td>Obijiaku</td>\n",
       "      <td>771</td>\n",
       "      <td>France</td>\n",
       "      <td>Male</td>\n",
       "      <td>39</td>\n",
       "      <td>5.0</td>\n",
       "      <td>0.00</td>\n",
       "      <td>2</td>\n",
       "      <td>1</td>\n",
       "      <td>0</td>\n",
       "      <td>96270.64</td>\n",
       "      <td>0</td>\n",
       "    </tr>\n",
       "    <tr>\n",
       "      <th>9996</th>\n",
       "      <td>9997</td>\n",
       "      <td>15569892</td>\n",
       "      <td>Johnstone</td>\n",
       "      <td>516</td>\n",
       "      <td>France</td>\n",
       "      <td>Male</td>\n",
       "      <td>35</td>\n",
       "      <td>10.0</td>\n",
       "      <td>57369.61</td>\n",
       "      <td>1</td>\n",
       "      <td>1</td>\n",
       "      <td>1</td>\n",
       "      <td>101699.77</td>\n",
       "      <td>0</td>\n",
       "    </tr>\n",
       "    <tr>\n",
       "      <th>9997</th>\n",
       "      <td>9998</td>\n",
       "      <td>15584532</td>\n",
       "      <td>Liu</td>\n",
       "      <td>709</td>\n",
       "      <td>France</td>\n",
       "      <td>Female</td>\n",
       "      <td>36</td>\n",
       "      <td>7.0</td>\n",
       "      <td>0.00</td>\n",
       "      <td>1</td>\n",
       "      <td>0</td>\n",
       "      <td>1</td>\n",
       "      <td>42085.58</td>\n",
       "      <td>1</td>\n",
       "    </tr>\n",
       "    <tr>\n",
       "      <th>9998</th>\n",
       "      <td>9999</td>\n",
       "      <td>15682355</td>\n",
       "      <td>Sabbatini</td>\n",
       "      <td>772</td>\n",
       "      <td>Germany</td>\n",
       "      <td>Male</td>\n",
       "      <td>42</td>\n",
       "      <td>3.0</td>\n",
       "      <td>75075.31</td>\n",
       "      <td>2</td>\n",
       "      <td>1</td>\n",
       "      <td>0</td>\n",
       "      <td>92888.52</td>\n",
       "      <td>1</td>\n",
       "    </tr>\n",
       "    <tr>\n",
       "      <th>9999</th>\n",
       "      <td>10000</td>\n",
       "      <td>15628319</td>\n",
       "      <td>Walker</td>\n",
       "      <td>792</td>\n",
       "      <td>France</td>\n",
       "      <td>Female</td>\n",
       "      <td>28</td>\n",
       "      <td>NaN</td>\n",
       "      <td>130142.79</td>\n",
       "      <td>1</td>\n",
       "      <td>1</td>\n",
       "      <td>0</td>\n",
       "      <td>38190.78</td>\n",
       "      <td>0</td>\n",
       "    </tr>\n",
       "  </tbody>\n",
       "</table>\n",
       "<p>10000 rows × 14 columns</p>\n",
       "</div>"
      ],
      "text/plain": [
       "      RowNumber  CustomerId    Surname  CreditScore Geography  Gender  Age  \\\n",
       "0             1    15634602   Hargrave          619    France  Female   42   \n",
       "1             2    15647311       Hill          608     Spain  Female   41   \n",
       "2             3    15619304       Onio          502    France  Female   42   \n",
       "3             4    15701354       Boni          699    France  Female   39   \n",
       "4             5    15737888   Mitchell          850     Spain  Female   43   \n",
       "...         ...         ...        ...          ...       ...     ...  ...   \n",
       "9995       9996    15606229   Obijiaku          771    France    Male   39   \n",
       "9996       9997    15569892  Johnstone          516    France    Male   35   \n",
       "9997       9998    15584532        Liu          709    France  Female   36   \n",
       "9998       9999    15682355  Sabbatini          772   Germany    Male   42   \n",
       "9999      10000    15628319     Walker          792    France  Female   28   \n",
       "\n",
       "      Tenure    Balance  NumOfProducts  HasCrCard  IsActiveMember  \\\n",
       "0        2.0       0.00              1          1               1   \n",
       "1        1.0   83807.86              1          0               1   \n",
       "2        8.0  159660.80              3          1               0   \n",
       "3        1.0       0.00              2          0               0   \n",
       "4        2.0  125510.82              1          1               1   \n",
       "...      ...        ...            ...        ...             ...   \n",
       "9995     5.0       0.00              2          1               0   \n",
       "9996    10.0   57369.61              1          1               1   \n",
       "9997     7.0       0.00              1          0               1   \n",
       "9998     3.0   75075.31              2          1               0   \n",
       "9999     NaN  130142.79              1          1               0   \n",
       "\n",
       "      EstimatedSalary  Exited  \n",
       "0           101348.88       1  \n",
       "1           112542.58       0  \n",
       "2           113931.57       1  \n",
       "3            93826.63       0  \n",
       "4            79084.10       0  \n",
       "...               ...     ...  \n",
       "9995         96270.64       0  \n",
       "9996        101699.77       0  \n",
       "9997         42085.58       1  \n",
       "9998         92888.52       1  \n",
       "9999         38190.78       0  \n",
       "\n",
       "[10000 rows x 14 columns]"
      ]
     },
     "execution_count": 3,
     "metadata": {},
     "output_type": "execute_result"
    }
   ],
   "source": [
    "data"
   ]
  },
  {
   "cell_type": "code",
   "execution_count": 4,
   "metadata": {},
   "outputs": [
    {
     "name": "stdout",
     "output_type": "stream",
     "text": [
      "<class 'pandas.core.frame.DataFrame'>\n",
      "RangeIndex: 10000 entries, 0 to 9999\n",
      "Data columns (total 14 columns):\n",
      " #   Column           Non-Null Count  Dtype  \n",
      "---  ------           --------------  -----  \n",
      " 0   RowNumber        10000 non-null  int64  \n",
      " 1   CustomerId       10000 non-null  int64  \n",
      " 2   Surname          10000 non-null  object \n",
      " 3   CreditScore      10000 non-null  int64  \n",
      " 4   Geography        10000 non-null  object \n",
      " 5   Gender           10000 non-null  object \n",
      " 6   Age              10000 non-null  int64  \n",
      " 7   Tenure           9091 non-null   float64\n",
      " 8   Balance          10000 non-null  float64\n",
      " 9   NumOfProducts    10000 non-null  int64  \n",
      " 10  HasCrCard        10000 non-null  int64  \n",
      " 11  IsActiveMember   10000 non-null  int64  \n",
      " 12  EstimatedSalary  10000 non-null  float64\n",
      " 13  Exited           10000 non-null  int64  \n",
      "dtypes: float64(3), int64(8), object(3)\n",
      "memory usage: 1.1+ MB\n"
     ]
    }
   ],
   "source": [
    "\n",
    "data.info()"
   ]
  },
  {
   "cell_type": "markdown",
   "metadata": {},
   "source": [
    "En la información del dataframe podemos ver que hay algunos datos ausentes en la columna de Tenure, y hay alguinos valores float que servirian mejor como enteros, como lo es en la columna Exited"
   ]
  },
  {
   "cell_type": "code",
   "execution_count": 5,
   "metadata": {},
   "outputs": [],
   "source": [
    "#se eliminan las columnas que no nos sirven para el objetivo del proyecto\n",
    "data = data.drop(['RowNumber', 'CustomerId', 'Surname'], axis = 1)\n",
    "#se cambian a minusculas los nombres de las comlumnas para mayor facilidad de manejo \n",
    "data.columns = data.columns.str.lower()"
   ]
  },
  {
   "cell_type": "code",
   "execution_count": 6,
   "metadata": {},
   "outputs": [],
   "source": [
    "#para mejor facilidad y claridad se renombran las columnas\n",
    "data = data.rename(columns = \n",
    "               {'creditscore': 'credit_score', \n",
    "                'numofproducts': 'num_products', \n",
    "                'hascrcard': 'credit_card',\n",
    "                'isactivemember': 'active_member',\n",
    "                'estimatedsalary': 'estimated_salary'})"
   ]
  },
  {
   "cell_type": "code",
   "execution_count": 7,
   "metadata": {},
   "outputs": [
    {
     "name": "stdout",
     "output_type": "stream",
     "text": [
      "<class 'pandas.core.frame.DataFrame'>\n",
      "RangeIndex: 10000 entries, 0 to 9999\n",
      "Data columns (total 11 columns):\n",
      " #   Column            Non-Null Count  Dtype  \n",
      "---  ------            --------------  -----  \n",
      " 0   credit_score      10000 non-null  int64  \n",
      " 1   geography         10000 non-null  object \n",
      " 2   gender            10000 non-null  object \n",
      " 3   age               10000 non-null  int64  \n",
      " 4   tenure            10000 non-null  float64\n",
      " 5   balance           10000 non-null  float64\n",
      " 6   num_products      10000 non-null  int64  \n",
      " 7   credit_card       10000 non-null  int64  \n",
      " 8   active_member     10000 non-null  int64  \n",
      " 9   estimated_salary  10000 non-null  float64\n",
      " 10  exited            10000 non-null  int64  \n",
      "dtypes: float64(3), int64(6), object(2)\n",
      "memory usage: 859.5+ KB\n"
     ]
    }
   ],
   "source": [
    "#rellenamos los valores nulos con la media \n",
    "data['tenure'] = data['tenure'].fillna(data['tenure'].mean())\n",
    "\n",
    "data.info()"
   ]
  },
  {
   "cell_type": "code",
   "execution_count": 8,
   "metadata": {},
   "outputs": [
    {
     "data": {
      "text/html": [
       "<div>\n",
       "<style scoped>\n",
       "    .dataframe tbody tr th:only-of-type {\n",
       "        vertical-align: middle;\n",
       "    }\n",
       "\n",
       "    .dataframe tbody tr th {\n",
       "        vertical-align: top;\n",
       "    }\n",
       "\n",
       "    .dataframe thead th {\n",
       "        text-align: right;\n",
       "    }\n",
       "</style>\n",
       "<table border=\"1\" class=\"dataframe\">\n",
       "  <thead>\n",
       "    <tr style=\"text-align: right;\">\n",
       "      <th></th>\n",
       "      <th>credit_score</th>\n",
       "      <th>age</th>\n",
       "      <th>tenure</th>\n",
       "      <th>balance</th>\n",
       "      <th>num_products</th>\n",
       "      <th>credit_card</th>\n",
       "      <th>active_member</th>\n",
       "      <th>estimated_salary</th>\n",
       "      <th>exited</th>\n",
       "    </tr>\n",
       "  </thead>\n",
       "  <tbody>\n",
       "    <tr>\n",
       "      <th>count</th>\n",
       "      <td>10000.000000</td>\n",
       "      <td>10000.000000</td>\n",
       "      <td>10000.00000</td>\n",
       "      <td>10000.000000</td>\n",
       "      <td>10000.000000</td>\n",
       "      <td>10000.00000</td>\n",
       "      <td>10000.000000</td>\n",
       "      <td>10000.000000</td>\n",
       "      <td>10000.000000</td>\n",
       "    </tr>\n",
       "    <tr>\n",
       "      <th>mean</th>\n",
       "      <td>650.528800</td>\n",
       "      <td>38.921800</td>\n",
       "      <td>4.99769</td>\n",
       "      <td>76485.889288</td>\n",
       "      <td>1.530200</td>\n",
       "      <td>0.70550</td>\n",
       "      <td>0.515100</td>\n",
       "      <td>100090.239881</td>\n",
       "      <td>0.203700</td>\n",
       "    </tr>\n",
       "    <tr>\n",
       "      <th>std</th>\n",
       "      <td>96.653299</td>\n",
       "      <td>10.487806</td>\n",
       "      <td>2.76001</td>\n",
       "      <td>62397.405202</td>\n",
       "      <td>0.581654</td>\n",
       "      <td>0.45584</td>\n",
       "      <td>0.499797</td>\n",
       "      <td>57510.492818</td>\n",
       "      <td>0.402769</td>\n",
       "    </tr>\n",
       "    <tr>\n",
       "      <th>min</th>\n",
       "      <td>350.000000</td>\n",
       "      <td>18.000000</td>\n",
       "      <td>0.00000</td>\n",
       "      <td>0.000000</td>\n",
       "      <td>1.000000</td>\n",
       "      <td>0.00000</td>\n",
       "      <td>0.000000</td>\n",
       "      <td>11.580000</td>\n",
       "      <td>0.000000</td>\n",
       "    </tr>\n",
       "    <tr>\n",
       "      <th>25%</th>\n",
       "      <td>584.000000</td>\n",
       "      <td>32.000000</td>\n",
       "      <td>3.00000</td>\n",
       "      <td>0.000000</td>\n",
       "      <td>1.000000</td>\n",
       "      <td>0.00000</td>\n",
       "      <td>0.000000</td>\n",
       "      <td>51002.110000</td>\n",
       "      <td>0.000000</td>\n",
       "    </tr>\n",
       "    <tr>\n",
       "      <th>50%</th>\n",
       "      <td>652.000000</td>\n",
       "      <td>37.000000</td>\n",
       "      <td>4.99769</td>\n",
       "      <td>97198.540000</td>\n",
       "      <td>1.000000</td>\n",
       "      <td>1.00000</td>\n",
       "      <td>1.000000</td>\n",
       "      <td>100193.915000</td>\n",
       "      <td>0.000000</td>\n",
       "    </tr>\n",
       "    <tr>\n",
       "      <th>75%</th>\n",
       "      <td>718.000000</td>\n",
       "      <td>44.000000</td>\n",
       "      <td>7.00000</td>\n",
       "      <td>127644.240000</td>\n",
       "      <td>2.000000</td>\n",
       "      <td>1.00000</td>\n",
       "      <td>1.000000</td>\n",
       "      <td>149388.247500</td>\n",
       "      <td>0.000000</td>\n",
       "    </tr>\n",
       "    <tr>\n",
       "      <th>max</th>\n",
       "      <td>850.000000</td>\n",
       "      <td>92.000000</td>\n",
       "      <td>10.00000</td>\n",
       "      <td>250898.090000</td>\n",
       "      <td>4.000000</td>\n",
       "      <td>1.00000</td>\n",
       "      <td>1.000000</td>\n",
       "      <td>199992.480000</td>\n",
       "      <td>1.000000</td>\n",
       "    </tr>\n",
       "  </tbody>\n",
       "</table>\n",
       "</div>"
      ],
      "text/plain": [
       "       credit_score           age       tenure        balance  num_products  \\\n",
       "count  10000.000000  10000.000000  10000.00000   10000.000000  10000.000000   \n",
       "mean     650.528800     38.921800      4.99769   76485.889288      1.530200   \n",
       "std       96.653299     10.487806      2.76001   62397.405202      0.581654   \n",
       "min      350.000000     18.000000      0.00000       0.000000      1.000000   \n",
       "25%      584.000000     32.000000      3.00000       0.000000      1.000000   \n",
       "50%      652.000000     37.000000      4.99769   97198.540000      1.000000   \n",
       "75%      718.000000     44.000000      7.00000  127644.240000      2.000000   \n",
       "max      850.000000     92.000000     10.00000  250898.090000      4.000000   \n",
       "\n",
       "       credit_card  active_member  estimated_salary        exited  \n",
       "count  10000.00000   10000.000000      10000.000000  10000.000000  \n",
       "mean       0.70550       0.515100     100090.239881      0.203700  \n",
       "std        0.45584       0.499797      57510.492818      0.402769  \n",
       "min        0.00000       0.000000         11.580000      0.000000  \n",
       "25%        0.00000       0.000000      51002.110000      0.000000  \n",
       "50%        1.00000       1.000000     100193.915000      0.000000  \n",
       "75%        1.00000       1.000000     149388.247500      0.000000  \n",
       "max        1.00000       1.000000     199992.480000      1.000000  "
      ]
     },
     "execution_count": 8,
     "metadata": {},
     "output_type": "execute_result"
    }
   ],
   "source": [
    "data.describe()"
   ]
  },
  {
   "cell_type": "code",
   "execution_count": 9,
   "metadata": {},
   "outputs": [
    {
     "data": {
      "text/plain": [
       "0"
      ]
     },
     "execution_count": 9,
     "metadata": {},
     "output_type": "execute_result"
    }
   ],
   "source": [
    "data.duplicated().sum()"
   ]
  },
  {
   "cell_type": "markdown",
   "metadata": {},
   "source": [
    "### Examina el equilibrio de clases. Entrena el modelo sin tener en cuenta el desequilibrio. Describe brevemente tus hallazgos."
   ]
  },
  {
   "cell_type": "code",
   "execution_count": 10,
   "metadata": {},
   "outputs": [
    {
     "name": "stdout",
     "output_type": "stream",
     "text": [
      "0    0.7963\n",
      "1    0.2037\n",
      "Name: exited, dtype: float64\n"
     ]
    },
    {
     "data": {
      "text/plain": [
       "<AxesSubplot:>"
      ]
     },
     "execution_count": 10,
     "metadata": {},
     "output_type": "execute_result"
    },
    {
     "data": {
      "image/png": "[encoded data removed]",
      "text/plain": [
       "<Figure size 640x480 with 1 Axes>"
      ]
     },
     "metadata": {},
     "output_type": "display_data"
    }
   ],
   "source": [
    "class_frequency = data['exited'].value_counts(normalize=True)\n",
    "print(class_frequency)\n",
    "class_frequency.plot(kind='bar')"
   ]
  },
  {
   "cell_type": "markdown",
   "metadata": {},
   "source": [
    "podemos ver que si existe un desequulibrio de clases, hay aproximadamente un 70 % de 0 "
   ]
  },
  {
   "cell_type": "markdown",
   "metadata": {},
   "source": [
    "<div class=\"alert alert-block alert-success\">\n",
    "<b>Comentario del revisor (1ra Iteracion)</b> <a class=“tocSkip”></a>\n",
    "\n",
    "Excelente! Siempre en problemas de ML hay que revisar el balance de las clases a predecir ya que de esto depende si se aplica una u otra técnica\n",
    "</div>"
   ]
  },
  {
   "cell_type": "code",
   "execution_count": 11,
   "metadata": {},
   "outputs": [],
   "source": [
    "#codificar variables categoricas\n",
    "\n",
    "encoder = OrdinalEncoder()\n",
    "data_ordinal= pd.DataFrame(encoder.fit_transform(data), columns=data.columns)"
   ]
  },
  {
   "cell_type": "code",
   "execution_count": 12,
   "metadata": {},
   "outputs": [],
   "source": [
    "# Codificación one-hot:\n",
    "\n",
    "data_ohe = pd.get_dummies(data, drop_first = True)\n",
    "\n",
    "# escalar variables numericas \n",
    "\n",
    "numeric = ['credit_score', 'age', 'tenure', 'balance', 'num_products', 'estimated_salary']\n",
    "scaler = StandardScaler()\n",
    "scaler.fit(data_ohe[numeric])\n",
    "\n",
    "data_ohe[numeric] = scaler.transform(data_ohe[numeric])"
   ]
  },
  {
   "cell_type": "markdown",
   "metadata": {},
   "source": [
    "<div class=\"alert alert-block alert-success\">\n",
    "<b>Comentario del revisor (1ra Iteracion)</b> <a class=“tocSkip”></a>\n",
    "\n",
    "Muy bien realizado el procesamiento de los datos! Siempre hay que extraer la información necesaria de cada feature para luego enviar estos datos al modelo\n",
    "</div>"
   ]
  },
  {
   "cell_type": "code",
   "execution_count": 13,
   "metadata": {},
   "outputs": [],
   "source": [
    "target = data_ordinal['exited']\n",
    "features = data_ordinal.drop('exited', axis=1)\n",
    "features_train, features_valid, target_train, target_valid = train_test_split(\n",
    "    features, target, test_size=0.20, random_state=12345)\n",
    "\n",
    "features_train, features_val_test, target_train, target_val_test = train_test_split(features, target, test_size=0.40, random_state=12345)"
   ]
  },
  {
   "cell_type": "code",
   "execution_count": 14,
   "metadata": {},
   "outputs": [
    {
     "name": "stdout",
     "output_type": "stream",
     "text": [
      "0.7963\n"
     ]
    }
   ],
   "source": [
    "#exactitud del modelo sin balance\n",
    "target_pred_constant = pd.Series(0, index=target.index) # <escribe el código aquí >\n",
    "print(accuracy_score(target, target_pred_constant))"
   ]
  },
  {
   "cell_type": "markdown",
   "metadata": {},
   "source": [
    "## Entrenamiento de modelos con desbalance de clases\n",
    "\n"
   ]
  },
  {
   "cell_type": "markdown",
   "metadata": {},
   "source": [
    "### Regresión lógistica"
   ]
  },
  {
   "cell_type": "code",
   "execution_count": 15,
   "metadata": {},
   "outputs": [
    {
     "name": "stdout",
     "output_type": "stream",
     "text": [
      "F1: 0.2616487455197133\n",
      "AUC-ROC: 0.7268767000510667\n",
      "Accuracy score: 0.794\n"
     ]
    }
   ],
   "source": [
    "model = LogisticRegression(random_state = 12345, solver = 'liblinear')\n",
    "model.fit(features_train, target_train)\n",
    "predicted_valid = model.predict(features_valid)\n",
    "\n",
    "probabilities_valid = model.predict_proba(features_valid)\n",
    "probabilities_one_valid = probabilities_valid[:,1]\n",
    "\n",
    "print('F1:', f1_score(target_valid, predicted_valid))\n",
    "print('AUC-ROC:', roc_auc_score(target_valid, probabilities_one_valid))\n",
    "print('Accuracy score:', accuracy_score(target_valid, predicted_valid))\n",
    "\n"
   ]
  },
  {
   "cell_type": "markdown",
   "metadata": {},
   "source": [
    "### Árbol de decisión"
   ]
  },
  {
   "cell_type": "code",
   "execution_count": 16,
   "metadata": {},
   "outputs": [
    {
     "name": "stdout",
     "output_type": "stream",
     "text": [
      "F1: 0.4514563106796116\n",
      "AUC-ROC: 0.6507293005057535\n",
      "Accuracy score: 0.774\n"
     ]
    }
   ],
   "source": [
    "#Analizar las frecuencias de clase de las predicciones del árbol de decisión\n",
    "\n",
    "\n",
    "model = DecisionTreeClassifier(random_state=12345)\n",
    "model.fit(features_train, target_train)\n",
    "predicted_valid = model.predict(features_valid)\n",
    "\n",
    "probabilities_valid = model.predict_proba(features_valid)\n",
    "probabilities_one_valid = probabilities_valid[:,1]\n",
    "\n",
    "print('F1:', f1_score(target_valid, predicted_valid))\n",
    "print('AUC-ROC:', roc_auc_score(target_valid, probabilities_one_valid))\n",
    "print('Accuracy score:', accuracy_score(target_valid, predicted_valid))\n",
    "\n"
   ]
  },
  {
   "cell_type": "markdown",
   "metadata": {},
   "source": []
  },
  {
   "cell_type": "markdown",
   "metadata": {},
   "source": [
    "### Bosque Aleatorio"
   ]
  },
  {
   "cell_type": "code",
   "execution_count": 17,
   "metadata": {},
   "outputs": [
    {
     "name": "stdout",
     "output_type": "stream",
     "text": [
      "F1: 0.5478645066273933\n",
      "AUC-ROC: 0.851675894894971\n",
      "Accuracy score: 0.8465\n"
     ]
    }
   ],
   "source": [
    "model = RandomForestClassifier(random_state=12345, n_estimators=50)\n",
    "model.fit(features_train,target_train)\n",
    "predicted_valid = model.predict(features_valid)\n",
    "\n",
    "probabilities_valid = model.predict_proba(features_valid)\n",
    "probabilities_one_valid = probabilities_valid[:,1]\n",
    "\n",
    "print('F1:', f1_score(target_valid, predicted_valid))\n",
    "print('AUC-ROC:', roc_auc_score(target_valid, probabilities_one_valid))\n",
    "print('Accuracy score:', accuracy_score(target_valid, predicted_valid))"
   ]
  },
  {
   "cell_type": "markdown",
   "metadata": {},
   "source": [
    "Conclusión: \n",
    "\n",
    "En los entrenamientos de los modelos desbalanceados pudimos obtener los mejores valores del Bosque aleatorio, ya que tiene un F1 de 0.54, siendo el más alto de los 3 y teniendo como objetivo 0.59 no queda tan lejos. los valores de precisión t exactitud tampoco están tan lejos del 1 como los otros modelos. Sin embargo creo que al balancerlos podremos mejorar los valores de F1 y la exacitud de nuestros modelos. \n",
    "\n"
   ]
  },
  {
   "cell_type": "markdown",
   "metadata": {},
   "source": [
    "<div class=\"alert alert-block alert-success\">\n",
    "<b>Comentario del revisor (1ra Iteracion)</b> <a class=“tocSkip”></a>\n",
    "\n",
    "Buen trabajo con el entrenamiento! Se puede observar que el modelo no logra llegar a la métrica objetivo, aquí es donde entran técnicas cómo sobremuestro o submuestreo para adecuar los datos al problema y que los modelos logren ajustarse mejor\n",
    "</div>"
   ]
  },
  {
   "cell_type": "markdown",
   "metadata": {},
   "source": [
    "## Entrenamiento de modelos con balance de clase"
   ]
  },
  {
   "cell_type": "markdown",
   "metadata": {},
   "source": [
    "### Regresión Lógistica"
   ]
  },
  {
   "cell_type": "code",
   "execution_count": 18,
   "metadata": {},
   "outputs": [
    {
     "name": "stdout",
     "output_type": "stream",
     "text": [
      "F1: 0.48166666666666663\n",
      "AUC-ROC: 0.7474894702912588\n",
      "Accuracy score: 0.689\n"
     ]
    }
   ],
   "source": [
    "model = LogisticRegression(random_state = 12345, solver = 'liblinear', class_weight = 'balanced')\n",
    "model.fit(features_train, target_train)\n",
    "predicted_valid = model.predict(features_valid)\n",
    "\n",
    "probabilities_valid = model.predict_proba(features_valid)\n",
    "probabilities_one_valid = probabilities_valid[:,1]\n",
    "\n",
    "print('F1:', f1_score(target_valid, predicted_valid))\n",
    "print('AUC-ROC:', roc_auc_score(target_valid, probabilities_one_valid))\n",
    "print('Accuracy score:', accuracy_score(target_valid, predicted_valid))"
   ]
  },
  {
   "cell_type": "code",
   "execution_count": 19,
   "metadata": {},
   "outputs": [
    {
     "name": "stdout",
     "output_type": "stream",
     "text": [
      "F1: 0.4694628403237674\n"
     ]
    }
   ],
   "source": [
    "#balance con sobremuestreo\n",
    "def upsample(features, target, repeat):\n",
    "    features_zeros = features[target == 0]\n",
    "    features_ones = features[target == 1]\n",
    "    target_zeros = target[target == 0]\n",
    "    target_ones = target[target == 1]\n",
    "\n",
    "    features_upsampled = pd.concat([features_zeros] + [features_ones] * repeat)\n",
    "    target_upsampled = pd.concat([target_zeros] + [target_ones] * repeat)\n",
    "\n",
    "    features_upsampled, target_upsampled = shuffle(\n",
    "        features_upsampled, target_upsampled, random_state=12345\n",
    "    )\n",
    "\n",
    "    return features_upsampled, target_upsampled\n",
    "\n",
    "\n",
    "features_upsampled, target_upsampled = upsample(\n",
    "    features_train, target_train, 5\n",
    ")\n",
    "\n",
    "model = LogisticRegression(random_state=12345, solver='liblinear')\n",
    "model.fit(features_upsampled, target_upsampled)\n",
    "\n",
    "predicted_valid = model.predict(features_valid)\n",
    "print('F1:', f1_score(target_valid, predicted_valid))"
   ]
  },
  {
   "cell_type": "code",
   "execution_count": 20,
   "metadata": {},
   "outputs": [
    {
     "name": "stdout",
     "output_type": "stream",
     "text": [
      "Threshold = 0.00 | Precision = 0.213, Recall = 1.000\n",
      "Threshold = 0.02 | Precision = 0.213, Recall = 1.000\n",
      "Threshold = 0.04 | Precision = 0.214, Recall = 1.000\n",
      "Threshold = 0.06 | Precision = 0.214, Recall = 1.000\n",
      "Threshold = 0.08 | Precision = 0.215, Recall = 1.000\n",
      "Threshold = 0.10 | Precision = 0.217, Recall = 1.000\n",
      "Threshold = 0.12 | Precision = 0.221, Recall = 1.000\n",
      "Threshold = 0.14 | Precision = 0.225, Recall = 0.993\n",
      "Threshold = 0.16 | Precision = 0.228, Recall = 0.986\n",
      "Threshold = 0.18 | Precision = 0.234, Recall = 0.984\n",
      "Threshold = 0.20 | Precision = 0.238, Recall = 0.965\n",
      "Threshold = 0.22 | Precision = 0.245, Recall = 0.956\n",
      "Threshold = 0.24 | Precision = 0.253, Recall = 0.946\n",
      "Threshold = 0.26 | Precision = 0.260, Recall = 0.932\n",
      "Threshold = 0.28 | Precision = 0.269, Recall = 0.923\n",
      "Threshold = 0.30 | Precision = 0.280, Recall = 0.913\n",
      "Threshold = 0.32 | Precision = 0.289, Recall = 0.902\n",
      "Threshold = 0.34 | Precision = 0.298, Recall = 0.883\n",
      "Threshold = 0.36 | Precision = 0.304, Recall = 0.850\n",
      "Threshold = 0.38 | Precision = 0.313, Recall = 0.838\n",
      "Threshold = 0.40 | Precision = 0.323, Recall = 0.817\n",
      "Threshold = 0.42 | Precision = 0.331, Recall = 0.792\n",
      "Threshold = 0.44 | Precision = 0.340, Recall = 0.759\n",
      "Threshold = 0.46 | Precision = 0.353, Recall = 0.742\n",
      "Threshold = 0.48 | Precision = 0.365, Recall = 0.714\n",
      "Threshold = 0.50 | Precision = 0.374, Recall = 0.677\n",
      "Threshold = 0.52 | Precision = 0.385, Recall = 0.644\n",
      "Threshold = 0.54 | Precision = 0.392, Recall = 0.618\n",
      "Threshold = 0.56 | Precision = 0.406, Recall = 0.597\n",
      "Threshold = 0.58 | Precision = 0.417, Recall = 0.562\n",
      "Threshold = 0.60 | Precision = 0.423, Recall = 0.534\n",
      "Threshold = 0.62 | Precision = 0.442, Recall = 0.508\n",
      "Threshold = 0.64 | Precision = 0.454, Recall = 0.466\n",
      "Threshold = 0.66 | Precision = 0.466, Recall = 0.433\n",
      "Threshold = 0.68 | Precision = 0.469, Recall = 0.396\n",
      "Threshold = 0.70 | Precision = 0.486, Recall = 0.354\n",
      "Threshold = 0.72 | Precision = 0.496, Recall = 0.311\n",
      "Threshold = 0.74 | Precision = 0.500, Recall = 0.262\n",
      "Threshold = 0.76 | Precision = 0.526, Recall = 0.234\n",
      "Threshold = 0.78 | Precision = 0.519, Recall = 0.197\n"
     ]
    }
   ],
   "source": [
    "for threshold in np.arange(0, 0.8, 0.02):\n",
    "    predicted_valid = probabilities_one_valid > threshold# < escribe el código aquí >\n",
    "    precision = precision_score(target_valid, predicted_valid)# < escribe el código aquí >\n",
    "    recall = recall_score(target_valid, predicted_valid)# < escribe el código aquí >\n",
    "\n",
    "\n",
    "    print(\n",
    "        \t'Threshold = {:.2f} | Precision = {:.3f}, Recall = {:.3f}'.format(\n",
    "            \tthreshold, precision, recall\n",
    "            )\n",
    "        )"
   ]
  },
  {
   "cell_type": "markdown",
   "metadata": {},
   "source": [
    "Aunque el F1 mejoró en comparación con el modelo desbalanceado, sigue siendo baja, incluso podemos ver que es un mejodelo poco precioso, no es confiable. "
   ]
  },
  {
   "cell_type": "markdown",
   "metadata": {},
   "source": [
    "### Árbol de decisiones"
   ]
  },
  {
   "cell_type": "code",
   "execution_count": 21,
   "metadata": {},
   "outputs": [
    {
     "name": "stdout",
     "output_type": "stream",
     "text": [
      "F1: 0.46634615384615385\n",
      "AUC-ROC: 0.6600969820045827\n",
      "Accuracy score: 0.778\n"
     ]
    }
   ],
   "source": [
    "model = DecisionTreeClassifier(random_state=12345, class_weight = 'balanced')\n",
    "model.fit(features_train, target_train)\n",
    "predicted_valid = model.predict(features_valid)\n",
    "\n",
    "probabilities_valid = model.predict_proba(features_valid)\n",
    "probabilities_one_valid = probabilities_valid[:,1]\n",
    "\n",
    "print('F1:', f1_score(target_valid, predicted_valid))\n",
    "print('AUC-ROC:', roc_auc_score(target_valid, probabilities_one_valid))\n",
    "print('Accuracy score:', accuracy_score(target_valid, predicted_valid))"
   ]
  },
  {
   "cell_type": "code",
   "execution_count": 22,
   "metadata": {},
   "outputs": [
    {
     "name": "stdout",
     "output_type": "stream",
     "text": [
      "Threshold: 0.0 F1: 0.46634615384615385\n",
      "Threshold: 0.02 F1: 0.46634615384615385\n",
      "Threshold: 0.04 F1: 0.46634615384615385\n",
      "Threshold: 0.06 F1: 0.46634615384615385\n",
      "Threshold: 0.08 F1: 0.46634615384615385\n",
      "Threshold: 0.1 F1: 0.46634615384615385\n",
      "Threshold: 0.12 F1: 0.46634615384615385\n",
      "Threshold: 0.14 F1: 0.46634615384615385\n",
      "Threshold: 0.16 F1: 0.46634615384615385\n",
      "Threshold: 0.18 F1: 0.46634615384615385\n",
      "Threshold: 0.2 F1: 0.46634615384615385\n",
      "Threshold: 0.22 F1: 0.46634615384615385\n",
      "Threshold: 0.24 F1: 0.46634615384615385\n",
      "Threshold: 0.26 F1: 0.46634615384615385\n",
      "Threshold: 0.28 F1: 0.46634615384615385\n",
      "Threshold: 0.3 F1: 0.46634615384615385\n",
      "Threshold: 0.32 F1: 0.46634615384615385\n",
      "Threshold: 0.34 F1: 0.46634615384615385\n",
      "Threshold: 0.36 F1: 0.46634615384615385\n",
      "Threshold: 0.38 F1: 0.46634615384615385\n",
      "Threshold: 0.4 F1: 0.46634615384615385\n",
      "Threshold: 0.42 F1: 0.46634615384615385\n",
      "Threshold: 0.44 F1: 0.46634615384615385\n",
      "Threshold: 0.46 F1: 0.46634615384615385\n",
      "Threshold: 0.48 F1: 0.46634615384615385\n"
     ]
    }
   ],
   "source": [
    "for threshold in np.arange(0, 0.5, 0.02):\n",
    "    predicted_valid = probabilities_one_valid > threshold\n",
    "    print('Threshold:', threshold, 'F1:', f1_score(target_valid,predicted_valid))"
   ]
  },
  {
   "cell_type": "code",
   "execution_count": 23,
   "metadata": {},
   "outputs": [
    {
     "name": "stdout",
     "output_type": "stream",
     "text": [
      "max_depth = 1 : F1: 0.5117187499999999 AUC-ROC = 0.7003071444204082\n",
      "max_depth = 2 : F1: 0.5480225988700566 AUC-ROC = 0.7562065356402168\n",
      "max_depth = 3 : F1: 0.5480225988700566 AUC-ROC = 0.8097922941440079\n",
      "max_depth = 4 : F1: 0.5439870863599677 AUC-ROC = 0.8304757835309251\n",
      "max_depth = 5 : F1: 0.5977249224405378 AUC-ROC = 0.8291120206172367\n",
      "max_depth = 6 : F1: 0.5612153708668455 AUC-ROC = 0.8044578372447224\n",
      "max_depth = 7 : F1: 0.555956678700361 AUC-ROC = 0.7901584257769056\n",
      "max_depth = 8 : F1: 0.5416267942583731 AUC-ROC = 0.7649667768892807\n",
      "max_depth = 9 : F1: 0.530214424951267 AUC-ROC = 0.7529393110615168\n"
     ]
    }
   ],
   "source": [
    "#profundidad \n",
    "for depth in range(1,10):\n",
    "    model = DecisionTreeClassifier(random_state=12345, max_depth=depth, class_weight = 'balanced')\n",
    "    model.fit(features_train,target_train)\n",
    "    predicted_valid = model.predict(features_valid)\n",
    "    probabilities_valid = model.predict_proba(features_valid)\n",
    "    probabilities_one_valid = probabilities_valid[:, 1]\n",
    "    print('max_depth =', depth, ':', 'F1:', f1_score(target_valid,predicted_valid), 'AUC-ROC =', roc_auc_score(target_valid, probabilities_one_valid))"
   ]
  },
  {
   "cell_type": "markdown",
   "metadata": {},
   "source": [
    "En este caso el modelo tuvo mejores resultados. Cuando hicimos la prueba de profundidad itinerando entre 1-10, el resultado de 5 fue bastante bueno, ya que alcanzamos el f1 objetivo de 0.59 y un AUC-ROC de 0.82 que me parece que hasta ahora es el mejor modelo, pero hay que probar si con el bosque aletorio de puede mejorar. "
   ]
  },
  {
   "cell_type": "markdown",
   "metadata": {},
   "source": [
    "### Bosque Aleatorio balanceado "
   ]
  },
  {
   "cell_type": "code",
   "execution_count": 24,
   "metadata": {},
   "outputs": [
    {
     "name": "stdout",
     "output_type": "stream",
     "text": [
      "F1: 0.5282442748091603\n",
      "AUC-ROC: 0.8502406684224866\n",
      "Accuracy score: 0.8455\n"
     ]
    }
   ],
   "source": [
    "model = RandomForestClassifier(random_state=12345, n_estimators=50, class_weight = 'balanced')\n",
    "model.fit(features_train,target_train)\n",
    "predicted_valid = model.predict(features_valid)\n",
    "\n",
    "probabilities_valid = model.predict_proba(features_valid)\n",
    "probabilities_one_valid = probabilities_valid[:,1]\n",
    "\n",
    "print('F1:', f1_score(target_valid, predicted_valid))\n",
    "print('AUC-ROC:', roc_auc_score(target_valid, probabilities_one_valid))\n",
    "print('Accuracy score:', accuracy_score(target_valid, predicted_valid))"
   ]
  },
  {
   "cell_type": "code",
   "execution_count": 25,
   "metadata": {},
   "outputs": [
    {
     "name": "stdout",
     "output_type": "stream",
     "text": [
      "n_estimators= 47 F1 = 0.5416036308623299\n"
     ]
    }
   ],
   "source": [
    "best_F1 = 0\n",
    "best_est = 0\n",
    "for est in range(1, 100): # choose hyperparameter range\n",
    "    model = RandomForestClassifier(random_state=12345, n_estimators=est, class_weight = 'balanced') # set number of trees\n",
    "    model.fit(features_train,target_train)\n",
    "    predicted_valid = model.predict(features_valid)\n",
    "    probabilities_valid = model.predict_proba(features_valid)\n",
    "    probabilities_one_valid = probabilities_valid[:, 1]\n",
    "    auc_roc = roc_auc_score(target_valid, probabilities_one_valid)\n",
    "    if f1_score(target_valid,predicted_valid) > best_F1:\n",
    "        best_F1 = f1_score(target_valid,predicted_valid)\n",
    "        best_est = est\n",
    "    # Print loading pattern\n",
    "   \n",
    "\n",
    "print('n_estimators=', best_est, 'F1 =', best_F1)"
   ]
  },
  {
   "cell_type": "code",
   "execution_count": 26,
   "metadata": {},
   "outputs": [
    {
     "name": "stdout",
     "output_type": "stream",
     "text": [
      "F1: 0.5416036308623299\n",
      "AUC-ROC: 0.8499354594734625\n",
      "Accuracy score: 0.8485\n"
     ]
    }
   ],
   "source": [
    "model = RandomForestClassifier(random_state=12345, n_estimators=47, class_weight = 'balanced')\n",
    "model.fit(features_train,target_train)\n",
    "predicted_valid = model.predict(features_valid)\n",
    "\n",
    "probabilities_valid = model.predict_proba(features_valid)\n",
    "probabilities_one_valid = probabilities_valid[:,1]\n",
    "\n",
    "print('F1:', f1_score(target_valid, predicted_valid))\n",
    "print('AUC-ROC:', roc_auc_score(target_valid, probabilities_one_valid))\n",
    "print('Accuracy score:', accuracy_score(target_valid, predicted_valid))"
   ]
  },
  {
   "cell_type": "code",
   "execution_count": 27,
   "metadata": {
    "scrolled": true
   },
   "outputs": [
    {
     "name": "stdout",
     "output_type": "stream",
     "text": [
      "Threshold: 0.0 F1: 0.38620689655172413\n",
      "Threshold: 0.02 F1: 0.38620689655172413\n",
      "Threshold: 0.04 F1: 0.42078451349974527\n",
      "Threshold: 0.06 F1: 0.45546786922209703\n",
      "Threshold: 0.08 F1: 0.4805352798053528\n",
      "Threshold: 0.1 F1: 0.5061969993476843\n",
      "Threshold: 0.12 F1: 0.5342756183745583\n",
      "Threshold: 0.14 F1: 0.5569044006069803\n",
      "Threshold: 0.16 F1: 0.5695897023330652\n",
      "Threshold: 0.18 F1: 0.5772495755517827\n",
      "Threshold: 0.2 F1: 0.5913200723327305\n",
      "Threshold: 0.22 F1: 0.5952153110047846\n",
      "Threshold: 0.24 F1: 0.6006066734074823\n",
      "Threshold: 0.26 F1: 0.6093418259023354\n",
      "Threshold: 0.28 F1: 0.6119733924611974\n",
      "Threshold: 0.3 F1: 0.6085946573751453\n",
      "Threshold: 0.32 F1: 0.6137184115523466\n",
      "Threshold: 0.34 F1: 0.6137184115523466\n",
      "Threshold: 0.36 F1: 0.5987421383647799\n",
      "Threshold: 0.38 F1: 0.5906735751295337\n",
      "Threshold: 0.4 F1: 0.5702811244979921\n",
      "Threshold: 0.42 F1: 0.5550906555090656\n",
      "Threshold: 0.44 F1: 0.5509325681492109\n",
      "Threshold: 0.46 F1: 0.5513196480938416\n",
      "Threshold: 0.48 F1: 0.5440956651718983\n"
     ]
    }
   ],
   "source": [
    "for threshold in np.arange(0, 0.5, 0.02):\n",
    "    predicted_valid = probabilities_one_valid > threshold\n",
    "    auc_roc = roc_auc_score(target_valid, probabilities_one_valid)\n",
    "    print('Threshold:', threshold, 'F1:', f1_score(target_valid,predicted_valid))"
   ]
  },
  {
   "cell_type": "markdown",
   "metadata": {},
   "source": [
    "Con un Threshold de 0.28 obtenemos el F1 más alto, que es igual a 0.6219. vamos a elegir ese valor para el modelo final "
   ]
  },
  {
   "cell_type": "code",
   "execution_count": 28,
   "metadata": {},
   "outputs": [
    {
     "name": "stdout",
     "output_type": "stream",
     "text": [
      "F1: 0.5970819304152638\n",
      "AUC-ROC: 0.8381842415400349\n",
      "Accuracy: 0.8205\n"
     ]
    }
   ],
   "source": [
    "# Modelo final\n",
    "probabilities_test = model.predict_proba(features_val_test)\n",
    "probabilities_one_test = probabilities_test[:, 1]\n",
    "predicted_test = probabilities_one_test > 0.28\n",
    "auc_roc = roc_auc_score(target_val_test, probabilities_one_test)\n",
    "\n",
    "print('F1:', f1_score(target_val_test,predicted_test))\n",
    "print('AUC-ROC:', auc_roc)\n",
    "print('Accuracy:', accuracy_score(target_val_test,predicted_test))"
   ]
  },
  {
   "cell_type": "markdown",
   "metadata": {},
   "source": [
    "<div class=\"alert alert-block alert-success\">\n",
    "<b>Comentario del revisor (1ra Iteracion)</b> <a class=“tocSkip”></a>\n",
    "\n",
    "Perfecto! Utilizar sobremuestreo o submuestreo o el balanceo de clases en los parámetros del modelo puede ayudar a los modelos a \"entender\" cómo hacer las predicciones, también te puedes apoyar de los parámetros de los modelos para mejorar estos resultados\n",
    "</div>"
   ]
  },
  {
   "cell_type": "markdown",
   "metadata": {},
   "source": [
    "## Conclusiones"
   ]
  },
  {
   "cell_type": "markdown",
   "metadata": {},
   "source": [
    "En conclusión, el mejor modelo es el de Bosque Aleatorio Balanceado. \n",
    "\n",
    "Los valores que nos arroja fueron los mejores de todas las pruebas\n",
    "F1= 0.59 cumpliendo el objetivo \n",
    "con un AUC-ROC de 0.83 siendo también el más alto obtenido y una exactitud de 0.82\n",
    "Sabemos que es un modelo que tendrá un margen de error, sin embargo es bajo y podrá predecir lcuando un cliente quiera abandonar el bando y se le pueda dar el seguimiento necesario para que cambie de opinión. "
   ]
  },
  {
   "cell_type": "markdown",
   "metadata": {},
   "source": [
    "<div class=\"alert alert-block alert-success\">\n",
    "<b>Comentario del revisor (1ra Iteracion)</b> <a class=“tocSkip”></a>\n",
    "\n",
    "Te felicito por el trabajo realizado Estela, se nota que conoces las métricas de evaluación y planteas conclusionens muy acertadas en cuanto a los resultados. Es importante siempre en un problema de ML identificar el balance entre las clases de tu variable objetivo para poder escoger la métrica correcta ya que para datasets desbalanceados la métrica de accuracy suele presentar buenos valores pero en realidad las predicciones no son buenas y es por la forma en cómo se calcula esta métrica que puede llevar a interpretaciones erroneas en cambio el f1-score es la ideal para este tipo de casos ya que maneja mejor este tipo de problemas.\n",
    "    \n",
    "    \n",
    "Saludos!\n",
    "</div>"
   ]
  }
 ],
 "metadata": {
  "ExecuteTimeLog": [
   {
    "duration": 168,
    "start_time": "2025-01-07T23:23:43.565Z"
   },
   {
    "duration": 287,
    "start_time": "2025-01-07T23:23:50.250Z"
   },
   {
    "duration": 34,
    "start_time": "2025-01-07T23:23:51.297Z"
   },
   {
    "duration": 2,
    "start_time": "2025-01-07T23:24:03.897Z"
   },
   {
    "duration": 31,
    "start_time": "2025-01-07T23:24:04.353Z"
   },
   {
    "duration": 29,
    "start_time": "2025-01-07T23:24:18.994Z"
   },
   {
    "duration": 9,
    "start_time": "2025-01-07T23:24:30.537Z"
   },
   {
    "duration": 28,
    "start_time": "2025-01-07T23:24:46.910Z"
   },
   {
    "duration": 9,
    "start_time": "2025-01-07T23:25:01.161Z"
   },
   {
    "duration": 10,
    "start_time": "2025-01-07T23:25:13.413Z"
   },
   {
    "duration": 730,
    "start_time": "2025-01-08T00:08:32.957Z"
   },
   {
    "duration": 797,
    "start_time": "2025-01-08T19:49:23.020Z"
   },
   {
    "duration": 23,
    "start_time": "2025-01-08T19:49:23.819Z"
   },
   {
    "duration": 21,
    "start_time": "2025-01-08T19:49:23.844Z"
   },
   {
    "duration": 12,
    "start_time": "2025-01-08T19:49:23.868Z"
   },
   {
    "duration": 44,
    "start_time": "2025-01-08T19:49:23.881Z"
   },
   {
    "duration": 7,
    "start_time": "2025-01-08T19:49:23.927Z"
   },
   {
    "duration": 149,
    "start_time": "2025-01-08T19:49:23.936Z"
   },
   {
    "duration": 11,
    "start_time": "2025-01-08T19:58:07.281Z"
   },
   {
    "duration": 5,
    "start_time": "2025-01-08T19:58:25.013Z"
   },
   {
    "duration": 33,
    "start_time": "2025-01-08T19:58:34.143Z"
   },
   {
    "duration": 2043,
    "start_time": "2025-01-08T19:59:25.393Z"
   },
   {
    "duration": 17,
    "start_time": "2025-01-08T20:00:34.620Z"
   },
   {
    "duration": 45,
    "start_time": "2025-01-08T20:00:38.981Z"
   },
   {
    "duration": 33,
    "start_time": "2025-01-08T20:02:45.588Z"
   },
   {
    "duration": 161,
    "start_time": "2025-01-08T20:05:46.232Z"
   },
   {
    "duration": 429,
    "start_time": "2025-01-08T20:06:11.695Z"
   },
   {
    "duration": 11,
    "start_time": "2025-01-08T20:06:33.445Z"
   },
   {
    "duration": 34,
    "start_time": "2025-01-08T20:07:24.580Z"
   },
   {
    "duration": 32,
    "start_time": "2025-01-08T20:08:25.998Z"
   },
   {
    "duration": 4,
    "start_time": "2025-01-08T20:09:24.867Z"
   },
   {
    "duration": 753,
    "start_time": "2025-01-08T22:52:00.004Z"
   },
   {
    "duration": 18,
    "start_time": "2025-01-08T22:52:00.759Z"
   },
   {
    "duration": 18,
    "start_time": "2025-01-08T22:52:00.779Z"
   },
   {
    "duration": 20,
    "start_time": "2025-01-08T22:52:00.799Z"
   },
   {
    "duration": 10,
    "start_time": "2025-01-08T22:52:00.822Z"
   },
   {
    "duration": 26,
    "start_time": "2025-01-08T22:52:00.833Z"
   },
   {
    "duration": 8,
    "start_time": "2025-01-08T22:52:00.861Z"
   },
   {
    "duration": 2010,
    "start_time": "2025-01-08T22:52:00.870Z"
   },
   {
    "duration": 162,
    "start_time": "2025-01-08T22:52:02.882Z"
   },
   {
    "duration": 0,
    "start_time": "2025-01-08T22:52:03.046Z"
   },
   {
    "duration": 0,
    "start_time": "2025-01-08T22:52:03.047Z"
   },
   {
    "duration": 156,
    "start_time": "2025-01-08T23:30:10.251Z"
   },
   {
    "duration": 4,
    "start_time": "2025-01-08T23:30:18.701Z"
   },
   {
    "duration": 3,
    "start_time": "2025-01-08T23:31:13.094Z"
   },
   {
    "duration": 5,
    "start_time": "2025-01-08T23:31:19.466Z"
   },
   {
    "duration": 16,
    "start_time": "2025-01-08T23:31:19.473Z"
   },
   {
    "duration": 17,
    "start_time": "2025-01-08T23:31:19.490Z"
   },
   {
    "duration": 9,
    "start_time": "2025-01-08T23:31:19.509Z"
   },
   {
    "duration": 3,
    "start_time": "2025-01-08T23:31:19.521Z"
   },
   {
    "duration": 4,
    "start_time": "2025-01-08T23:31:19.526Z"
   },
   {
    "duration": 453,
    "start_time": "2025-01-08T23:31:19.532Z"
   },
   {
    "duration": 0,
    "start_time": "2025-01-08T23:31:19.987Z"
   },
   {
    "duration": 0,
    "start_time": "2025-01-08T23:31:19.988Z"
   },
   {
    "duration": 0,
    "start_time": "2025-01-08T23:31:19.989Z"
   },
   {
    "duration": 0,
    "start_time": "2025-01-08T23:31:19.990Z"
   },
   {
    "duration": 0,
    "start_time": "2025-01-08T23:31:19.991Z"
   },
   {
    "duration": 0,
    "start_time": "2025-01-08T23:31:19.993Z"
   },
   {
    "duration": 3,
    "start_time": "2025-01-08T23:31:37.171Z"
   },
   {
    "duration": 10,
    "start_time": "2025-01-08T23:31:50.560Z"
   },
   {
    "duration": 81,
    "start_time": "2025-01-08T23:34:07.168Z"
   },
   {
    "duration": 32,
    "start_time": "2025-01-08T23:34:26.368Z"
   },
   {
    "duration": 88,
    "start_time": "2025-01-08T23:40:06.061Z"
   },
   {
    "duration": 14,
    "start_time": "2025-01-08T23:40:32.025Z"
   },
   {
    "duration": 18,
    "start_time": "2025-01-08T23:41:27.712Z"
   },
   {
    "duration": 3,
    "start_time": "2025-01-08T23:41:42.333Z"
   },
   {
    "duration": 13,
    "start_time": "2025-01-08T23:41:52.223Z"
   },
   {
    "duration": 39,
    "start_time": "2025-01-08T23:42:35.525Z"
   },
   {
    "duration": 27,
    "start_time": "2025-01-08T23:42:48.813Z"
   },
   {
    "duration": 16,
    "start_time": "2025-01-08T23:44:15.569Z"
   },
   {
    "duration": 38,
    "start_time": "2025-01-08T23:45:06.924Z"
   },
   {
    "duration": 42,
    "start_time": "2025-01-08T23:45:26.724Z"
   },
   {
    "duration": 43,
    "start_time": "2025-01-08T23:45:47.223Z"
   },
   {
    "duration": 5,
    "start_time": "2025-01-08T23:46:01.032Z"
   },
   {
    "duration": 3,
    "start_time": "2025-01-08T23:49:19.541Z"
   },
   {
    "duration": 5,
    "start_time": "2025-01-08T23:51:38.485Z"
   },
   {
    "duration": 3,
    "start_time": "2025-01-08T23:51:50.843Z"
   },
   {
    "duration": 808,
    "start_time": "2025-01-09T20:03:03.871Z"
   },
   {
    "duration": 22,
    "start_time": "2025-01-09T20:03:04.683Z"
   },
   {
    "duration": 19,
    "start_time": "2025-01-09T20:03:04.708Z"
   },
   {
    "duration": 12,
    "start_time": "2025-01-09T20:03:04.729Z"
   },
   {
    "duration": 4,
    "start_time": "2025-01-09T20:03:04.745Z"
   },
   {
    "duration": 4,
    "start_time": "2025-01-09T20:03:04.750Z"
   },
   {
    "duration": 10,
    "start_time": "2025-01-09T20:03:04.755Z"
   },
   {
    "duration": 58,
    "start_time": "2025-01-09T20:03:04.767Z"
   },
   {
    "duration": 7,
    "start_time": "2025-01-09T20:03:04.827Z"
   },
   {
    "duration": 2137,
    "start_time": "2025-01-09T20:03:04.836Z"
   },
   {
    "duration": 18,
    "start_time": "2025-01-09T20:03:06.975Z"
   },
   {
    "duration": 6,
    "start_time": "2025-01-09T20:03:06.995Z"
   },
   {
    "duration": 0,
    "start_time": "2025-01-09T20:03:07.003Z"
   },
   {
    "duration": 0,
    "start_time": "2025-01-09T20:03:07.005Z"
   },
   {
    "duration": 0,
    "start_time": "2025-01-09T20:03:07.024Z"
   },
   {
    "duration": 796,
    "start_time": "2025-01-09T23:54:14.163Z"
   },
   {
    "duration": 21,
    "start_time": "2025-01-09T23:54:14.961Z"
   },
   {
    "duration": 18,
    "start_time": "2025-01-09T23:54:14.983Z"
   },
   {
    "duration": 15,
    "start_time": "2025-01-09T23:54:15.003Z"
   },
   {
    "duration": 5,
    "start_time": "2025-01-09T23:54:15.020Z"
   },
   {
    "duration": 4,
    "start_time": "2025-01-09T23:54:15.027Z"
   },
   {
    "duration": 9,
    "start_time": "2025-01-09T23:54:15.033Z"
   },
   {
    "duration": 23,
    "start_time": "2025-01-09T23:54:15.044Z"
   },
   {
    "duration": 6,
    "start_time": "2025-01-09T23:54:15.070Z"
   },
   {
    "duration": 2002,
    "start_time": "2025-01-09T23:54:15.078Z"
   },
   {
    "duration": 16,
    "start_time": "2025-01-09T23:54:17.082Z"
   },
   {
    "duration": 272,
    "start_time": "2025-01-09T23:54:17.111Z"
   },
   {
    "duration": 0,
    "start_time": "2025-01-09T23:54:17.384Z"
   },
   {
    "duration": 0,
    "start_time": "2025-01-09T23:54:17.385Z"
   },
   {
    "duration": 0,
    "start_time": "2025-01-09T23:54:17.386Z"
   },
   {
    "duration": 0,
    "start_time": "2025-01-09T23:54:17.387Z"
   },
   {
    "duration": 22,
    "start_time": "2025-01-09T23:58:56.961Z"
   },
   {
    "duration": 24,
    "start_time": "2025-01-09T23:59:02.928Z"
   },
   {
    "duration": 19,
    "start_time": "2025-01-09T23:59:08.461Z"
   },
   {
    "duration": 7,
    "start_time": "2025-01-09T23:59:25.784Z"
   },
   {
    "duration": 3,
    "start_time": "2025-01-09T23:59:51.610Z"
   },
   {
    "duration": 2,
    "start_time": "2025-01-10T00:00:24.948Z"
   },
   {
    "duration": 14,
    "start_time": "2025-01-10T00:05:48.388Z"
   },
   {
    "duration": 18,
    "start_time": "2025-01-10T00:06:06.764Z"
   },
   {
    "duration": 4,
    "start_time": "2025-01-10T00:06:07.235Z"
   },
   {
    "duration": 6,
    "start_time": "2025-01-10T00:06:15.537Z"
   },
   {
    "duration": 45,
    "start_time": "2025-01-10T00:06:19.876Z"
   },
   {
    "duration": 38,
    "start_time": "2025-01-10T00:08:53.138Z"
   },
   {
    "duration": 161,
    "start_time": "2025-01-10T02:01:44.408Z"
   },
   {
    "duration": 12,
    "start_time": "2025-01-10T02:01:47.927Z"
   },
   {
    "duration": 790,
    "start_time": "2025-01-10T02:01:54.228Z"
   },
   {
    "duration": 25,
    "start_time": "2025-01-10T02:01:55.021Z"
   },
   {
    "duration": 22,
    "start_time": "2025-01-10T02:01:55.048Z"
   },
   {
    "duration": 21,
    "start_time": "2025-01-10T02:01:55.072Z"
   },
   {
    "duration": 4,
    "start_time": "2025-01-10T02:01:55.095Z"
   },
   {
    "duration": 3,
    "start_time": "2025-01-10T02:01:55.101Z"
   },
   {
    "duration": 9,
    "start_time": "2025-01-10T02:01:55.106Z"
   },
   {
    "duration": 26,
    "start_time": "2025-01-10T02:01:55.117Z"
   },
   {
    "duration": 10,
    "start_time": "2025-01-10T02:01:55.144Z"
   },
   {
    "duration": 2148,
    "start_time": "2025-01-10T02:01:55.155Z"
   },
   {
    "duration": 17,
    "start_time": "2025-01-10T02:01:57.306Z"
   },
   {
    "duration": 24,
    "start_time": "2025-01-10T02:01:57.325Z"
   },
   {
    "duration": 7,
    "start_time": "2025-01-10T02:01:57.351Z"
   },
   {
    "duration": 52,
    "start_time": "2025-01-10T02:01:57.360Z"
   },
   {
    "duration": 91,
    "start_time": "2025-01-10T02:01:57.414Z"
   },
   {
    "duration": 80,
    "start_time": "2025-01-10T02:01:57.507Z"
   },
   {
    "duration": 109,
    "start_time": "2025-01-10T02:01:57.589Z"
   },
   {
    "duration": 18,
    "start_time": "2025-01-10T02:11:39.585Z"
   },
   {
    "duration": 18,
    "start_time": "2025-01-10T02:11:52.467Z"
   },
   {
    "duration": 3,
    "start_time": "2025-01-10T02:12:00.712Z"
   },
   {
    "duration": 5,
    "start_time": "2025-01-10T02:12:10.282Z"
   },
   {
    "duration": 4,
    "start_time": "2025-01-10T02:12:20.156Z"
   },
   {
    "duration": 4,
    "start_time": "2025-01-10T02:13:47.334Z"
   },
   {
    "duration": 5,
    "start_time": "2025-01-10T02:15:00.081Z"
   },
   {
    "duration": 4,
    "start_time": "2025-01-10T02:16:05.121Z"
   },
   {
    "duration": 4,
    "start_time": "2025-01-10T02:16:39.418Z"
   },
   {
    "duration": 5,
    "start_time": "2025-01-10T02:17:27.585Z"
   },
   {
    "duration": 4,
    "start_time": "2025-01-10T02:18:23.437Z"
   },
   {
    "duration": 5,
    "start_time": "2025-01-10T02:20:19.649Z"
   },
   {
    "duration": 5,
    "start_time": "2025-01-10T02:20:39.525Z"
   },
   {
    "duration": 28,
    "start_time": "2025-01-10T02:21:04.544Z"
   },
   {
    "duration": 38,
    "start_time": "2025-01-10T02:23:09.242Z"
   },
   {
    "duration": 19,
    "start_time": "2025-01-10T02:23:40.500Z"
   },
   {
    "duration": 8,
    "start_time": "2025-01-10T02:23:41.639Z"
   },
   {
    "duration": 34,
    "start_time": "2025-01-10T02:23:44.199Z"
   },
   {
    "duration": 35,
    "start_time": "2025-01-10T02:27:44.722Z"
   },
   {
    "duration": 4,
    "start_time": "2025-01-10T02:28:16.385Z"
   },
   {
    "duration": 16,
    "start_time": "2025-01-10T02:30:33.265Z"
   },
   {
    "duration": 9,
    "start_time": "2025-01-10T02:31:05.219Z"
   },
   {
    "duration": 324,
    "start_time": "2025-01-10T02:31:09.192Z"
   },
   {
    "duration": 40,
    "start_time": "2025-01-10T02:33:54.758Z"
   },
   {
    "duration": 802,
    "start_time": "2025-01-12T21:03:28.048Z"
   },
   {
    "duration": 20,
    "start_time": "2025-01-12T21:03:28.852Z"
   },
   {
    "duration": 21,
    "start_time": "2025-01-12T21:03:28.874Z"
   },
   {
    "duration": 11,
    "start_time": "2025-01-12T21:03:28.904Z"
   },
   {
    "duration": 3,
    "start_time": "2025-01-12T21:03:28.919Z"
   },
   {
    "duration": 4,
    "start_time": "2025-01-12T21:03:28.924Z"
   },
   {
    "duration": 10,
    "start_time": "2025-01-12T21:03:28.930Z"
   },
   {
    "duration": 24,
    "start_time": "2025-01-12T21:03:28.941Z"
   },
   {
    "duration": 39,
    "start_time": "2025-01-12T21:03:28.966Z"
   },
   {
    "duration": 1999,
    "start_time": "2025-01-12T21:03:29.009Z"
   },
   {
    "duration": 18,
    "start_time": "2025-01-12T21:03:31.009Z"
   },
   {
    "duration": 21,
    "start_time": "2025-01-12T21:03:31.029Z"
   },
   {
    "duration": 8,
    "start_time": "2025-01-12T21:03:31.052Z"
   },
   {
    "duration": 61,
    "start_time": "2025-01-12T21:03:31.061Z"
   },
   {
    "duration": 103,
    "start_time": "2025-01-12T21:03:31.124Z"
   },
   {
    "duration": 4,
    "start_time": "2025-01-12T21:03:31.229Z"
   },
   {
    "duration": 374,
    "start_time": "2025-01-12T21:03:31.235Z"
   },
   {
    "duration": 42,
    "start_time": "2025-01-12T21:03:31.611Z"
   },
   {
    "duration": 235,
    "start_time": "2025-01-12T21:13:17.741Z"
   },
   {
    "duration": 3,
    "start_time": "2025-01-12T21:19:04.398Z"
   },
   {
    "duration": 83,
    "start_time": "2025-01-12T21:19:14.477Z"
   },
   {
    "duration": 336,
    "start_time": "2025-01-12T21:20:18.329Z"
   },
   {
    "duration": 55,
    "start_time": "2025-01-12T21:20:30.358Z"
   },
   {
    "duration": 16,
    "start_time": "2025-01-12T21:21:56.368Z"
   },
   {
    "duration": 3,
    "start_time": "2025-01-12T21:22:26.579Z"
   },
   {
    "duration": 14,
    "start_time": "2025-01-12T21:22:29.889Z"
   },
   {
    "duration": 3,
    "start_time": "2025-01-12T21:22:58.201Z"
   },
   {
    "duration": 39,
    "start_time": "2025-01-12T21:23:03.207Z"
   },
   {
    "duration": 55,
    "start_time": "2025-01-12T21:24:40.142Z"
   },
   {
    "duration": 85,
    "start_time": "2025-01-12T21:24:54.365Z"
   },
   {
    "duration": 35,
    "start_time": "2025-01-12T21:26:42.904Z"
   },
   {
    "duration": 30,
    "start_time": "2025-01-12T21:45:55.249Z"
   },
   {
    "duration": 153,
    "start_time": "2025-01-12T21:45:59.443Z"
   },
   {
    "duration": 276,
    "start_time": "2025-01-12T21:47:08.091Z"
   },
   {
    "duration": 154,
    "start_time": "2025-01-12T21:47:30.262Z"
   },
   {
    "duration": 311,
    "start_time": "2025-01-12T21:52:48.350Z"
   },
   {
    "duration": 32867,
    "start_time": "2025-01-12T21:54:05.773Z"
   },
   {
    "duration": 293,
    "start_time": "2025-01-12T21:55:56.107Z"
   },
   {
    "duration": 20,
    "start_time": "2025-01-12T21:57:08.431Z"
   },
   {
    "duration": 31136,
    "start_time": "2025-01-12T21:57:49.808Z"
   },
   {
    "duration": 566,
    "start_time": "2025-01-12T21:58:20.946Z"
   },
   {
    "duration": 107,
    "start_time": "2025-01-12T21:58:49.400Z"
   },
   {
    "duration": 73,
    "start_time": "2025-01-12T21:59:15.271Z"
   },
   {
    "duration": 508,
    "start_time": "2025-01-12T21:59:35.430Z"
   },
   {
    "duration": 79,
    "start_time": "2025-01-12T21:59:58.133Z"
   },
   {
    "duration": 147,
    "start_time": "2025-01-12T22:00:06.127Z"
   },
   {
    "duration": 213,
    "start_time": "2025-01-12T22:00:12.854Z"
   },
   {
    "duration": 256,
    "start_time": "2025-01-12T22:00:25.530Z"
   },
   {
    "duration": 337,
    "start_time": "2025-01-12T22:00:33.391Z"
   },
   {
    "duration": 388,
    "start_time": "2025-01-12T22:00:58.688Z"
   },
   {
    "duration": 296,
    "start_time": "2025-01-12T22:01:09.042Z"
   },
   {
    "duration": 3,
    "start_time": "2025-01-12T22:10:46.215Z"
   },
   {
    "duration": 0,
    "start_time": "2025-01-12T23:26:17.084Z"
   },
   {
    "duration": 12,
    "start_time": "2025-01-12T23:26:52.538Z"
   },
   {
    "duration": 853,
    "start_time": "2025-01-12T23:27:31.313Z"
   },
   {
    "duration": 16,
    "start_time": "2025-01-12T23:27:32.168Z"
   },
   {
    "duration": 31,
    "start_time": "2025-01-12T23:27:32.186Z"
   },
   {
    "duration": 12,
    "start_time": "2025-01-12T23:27:32.221Z"
   },
   {
    "duration": 3,
    "start_time": "2025-01-12T23:27:32.237Z"
   },
   {
    "duration": 5,
    "start_time": "2025-01-12T23:27:32.242Z"
   },
   {
    "duration": 12,
    "start_time": "2025-01-12T23:27:32.248Z"
   },
   {
    "duration": 50,
    "start_time": "2025-01-12T23:27:32.263Z"
   },
   {
    "duration": 8,
    "start_time": "2025-01-12T23:27:32.315Z"
   },
   {
    "duration": 326,
    "start_time": "2025-01-12T23:27:32.325Z"
   },
   {
    "duration": 22,
    "start_time": "2025-01-12T23:27:32.655Z"
   },
   {
    "duration": 38,
    "start_time": "2025-01-12T23:27:32.679Z"
   },
   {
    "duration": 97,
    "start_time": "2025-01-12T23:27:32.722Z"
   },
   {
    "duration": 0,
    "start_time": "2025-01-12T23:27:32.822Z"
   },
   {
    "duration": 0,
    "start_time": "2025-01-12T23:27:32.823Z"
   },
   {
    "duration": 0,
    "start_time": "2025-01-12T23:27:32.825Z"
   },
   {
    "duration": 0,
    "start_time": "2025-01-12T23:27:32.825Z"
   },
   {
    "duration": 0,
    "start_time": "2025-01-12T23:27:32.827Z"
   },
   {
    "duration": 0,
    "start_time": "2025-01-12T23:27:32.828Z"
   },
   {
    "duration": 0,
    "start_time": "2025-01-12T23:27:32.829Z"
   },
   {
    "duration": 0,
    "start_time": "2025-01-12T23:27:32.830Z"
   },
   {
    "duration": 0,
    "start_time": "2025-01-12T23:27:32.831Z"
   },
   {
    "duration": 0,
    "start_time": "2025-01-12T23:27:32.831Z"
   },
   {
    "duration": 0,
    "start_time": "2025-01-12T23:27:32.832Z"
   },
   {
    "duration": 0,
    "start_time": "2025-01-12T23:27:32.833Z"
   },
   {
    "duration": 0,
    "start_time": "2025-01-12T23:27:32.835Z"
   },
   {
    "duration": 0,
    "start_time": "2025-01-12T23:27:32.836Z"
   },
   {
    "duration": 0,
    "start_time": "2025-01-12T23:27:32.837Z"
   },
   {
    "duration": 18,
    "start_time": "2025-01-12T23:28:27.510Z"
   },
   {
    "duration": 4,
    "start_time": "2025-01-12T23:28:33.474Z"
   },
   {
    "duration": 15,
    "start_time": "2025-01-12T23:28:34.912Z"
   },
   {
    "duration": 18,
    "start_time": "2025-01-12T23:28:34.929Z"
   },
   {
    "duration": 13,
    "start_time": "2025-01-12T23:28:35.567Z"
   },
   {
    "duration": 5,
    "start_time": "2025-01-12T23:28:37.512Z"
   },
   {
    "duration": 4,
    "start_time": "2025-01-12T23:28:37.552Z"
   },
   {
    "duration": 14,
    "start_time": "2025-01-12T23:28:43.979Z"
   },
   {
    "duration": 14,
    "start_time": "2025-01-12T23:29:08.650Z"
   },
   {
    "duration": 13,
    "start_time": "2025-01-12T23:36:03.470Z"
   },
   {
    "duration": 17,
    "start_time": "2025-01-12T23:36:20.678Z"
   },
   {
    "duration": 3,
    "start_time": "2025-01-12T23:36:36.104Z"
   },
   {
    "duration": 15,
    "start_time": "2025-01-12T23:36:36.110Z"
   },
   {
    "duration": 15,
    "start_time": "2025-01-12T23:36:36.129Z"
   },
   {
    "duration": 9,
    "start_time": "2025-01-12T23:36:36.148Z"
   },
   {
    "duration": 3,
    "start_time": "2025-01-12T23:36:36.159Z"
   },
   {
    "duration": 3,
    "start_time": "2025-01-12T23:36:36.169Z"
   },
   {
    "duration": 31,
    "start_time": "2025-01-12T23:36:36.174Z"
   },
   {
    "duration": 24,
    "start_time": "2025-01-12T23:36:36.207Z"
   },
   {
    "duration": 6,
    "start_time": "2025-01-12T23:36:36.233Z"
   },
   {
    "duration": 108,
    "start_time": "2025-01-12T23:36:36.241Z"
   },
   {
    "duration": 17,
    "start_time": "2025-01-12T23:36:36.350Z"
   },
   {
    "duration": 18,
    "start_time": "2025-01-12T23:36:36.368Z"
   },
   {
    "duration": 26,
    "start_time": "2025-01-12T23:36:36.388Z"
   },
   {
    "duration": 0,
    "start_time": "2025-01-12T23:36:36.415Z"
   },
   {
    "duration": 0,
    "start_time": "2025-01-12T23:36:36.417Z"
   },
   {
    "duration": 1,
    "start_time": "2025-01-12T23:36:36.418Z"
   },
   {
    "duration": 0,
    "start_time": "2025-01-12T23:36:36.420Z"
   },
   {
    "duration": 0,
    "start_time": "2025-01-12T23:36:36.421Z"
   },
   {
    "duration": 0,
    "start_time": "2025-01-12T23:36:36.423Z"
   },
   {
    "duration": 0,
    "start_time": "2025-01-12T23:36:36.424Z"
   },
   {
    "duration": 0,
    "start_time": "2025-01-12T23:36:36.425Z"
   },
   {
    "duration": 18,
    "start_time": "2025-01-12T23:36:36.496Z"
   },
   {
    "duration": 0,
    "start_time": "2025-01-12T23:36:36.516Z"
   },
   {
    "duration": 0,
    "start_time": "2025-01-12T23:36:36.519Z"
   },
   {
    "duration": 0,
    "start_time": "2025-01-12T23:36:36.521Z"
   },
   {
    "duration": 0,
    "start_time": "2025-01-12T23:36:36.523Z"
   },
   {
    "duration": 0,
    "start_time": "2025-01-12T23:36:36.524Z"
   },
   {
    "duration": 15,
    "start_time": "2025-01-12T23:36:36.607Z"
   },
   {
    "duration": 15,
    "start_time": "2025-01-12T23:37:46.386Z"
   },
   {
    "duration": 3,
    "start_time": "2025-01-12T23:37:59.042Z"
   },
   {
    "duration": 14,
    "start_time": "2025-01-12T23:37:59.313Z"
   },
   {
    "duration": 16,
    "start_time": "2025-01-12T23:37:59.329Z"
   },
   {
    "duration": 9,
    "start_time": "2025-01-12T23:37:59.347Z"
   },
   {
    "duration": 3,
    "start_time": "2025-01-12T23:37:59.358Z"
   },
   {
    "duration": 3,
    "start_time": "2025-01-12T23:37:59.365Z"
   },
   {
    "duration": 37,
    "start_time": "2025-01-12T23:37:59.369Z"
   },
   {
    "duration": 25,
    "start_time": "2025-01-12T23:37:59.407Z"
   },
   {
    "duration": 7,
    "start_time": "2025-01-12T23:37:59.433Z"
   },
   {
    "duration": 113,
    "start_time": "2025-01-12T23:37:59.441Z"
   },
   {
    "duration": 17,
    "start_time": "2025-01-12T23:37:59.556Z"
   },
   {
    "duration": 31,
    "start_time": "2025-01-12T23:37:59.574Z"
   },
   {
    "duration": 15,
    "start_time": "2025-01-12T23:37:59.607Z"
   },
   {
    "duration": 0,
    "start_time": "2025-01-12T23:37:59.625Z"
   },
   {
    "duration": 0,
    "start_time": "2025-01-12T23:37:59.626Z"
   },
   {
    "duration": 0,
    "start_time": "2025-01-12T23:37:59.628Z"
   },
   {
    "duration": 0,
    "start_time": "2025-01-12T23:37:59.629Z"
   },
   {
    "duration": 0,
    "start_time": "2025-01-12T23:37:59.631Z"
   },
   {
    "duration": 0,
    "start_time": "2025-01-12T23:37:59.632Z"
   },
   {
    "duration": 0,
    "start_time": "2025-01-12T23:37:59.633Z"
   },
   {
    "duration": 0,
    "start_time": "2025-01-12T23:37:59.634Z"
   },
   {
    "duration": 0,
    "start_time": "2025-01-12T23:37:59.635Z"
   },
   {
    "duration": 0,
    "start_time": "2025-01-12T23:37:59.636Z"
   },
   {
    "duration": 0,
    "start_time": "2025-01-12T23:37:59.637Z"
   },
   {
    "duration": 0,
    "start_time": "2025-01-12T23:37:59.638Z"
   },
   {
    "duration": 0,
    "start_time": "2025-01-12T23:37:59.639Z"
   },
   {
    "duration": 0,
    "start_time": "2025-01-12T23:37:59.640Z"
   },
   {
    "duration": 0,
    "start_time": "2025-01-12T23:37:59.642Z"
   },
   {
    "duration": 13,
    "start_time": "2025-01-12T23:39:11.756Z"
   },
   {
    "duration": 8,
    "start_time": "2025-01-12T23:39:15.308Z"
   },
   {
    "duration": 4,
    "start_time": "2025-01-12T23:39:33.044Z"
   },
   {
    "duration": 34,
    "start_time": "2025-01-12T23:39:57.060Z"
   },
   {
    "duration": 34,
    "start_time": "2025-01-12T23:39:59.224Z"
   },
   {
    "duration": 323,
    "start_time": "2025-01-12T23:40:03.778Z"
   },
   {
    "duration": 40,
    "start_time": "2025-01-12T23:40:07.486Z"
   },
   {
    "duration": 57,
    "start_time": "2025-01-12T23:40:08.389Z"
   },
   {
    "duration": 93,
    "start_time": "2025-01-12T23:40:10.189Z"
   },
   {
    "duration": 35,
    "start_time": "2025-01-12T23:42:01.560Z"
   },
   {
    "duration": 32,
    "start_time": "2025-01-12T23:42:02.281Z"
   },
   {
    "duration": 153,
    "start_time": "2025-01-12T23:42:13.183Z"
   },
   {
    "duration": 324,
    "start_time": "2025-01-12T23:45:05.306Z"
   },
   {
    "duration": 30589,
    "start_time": "2025-01-12T23:45:05.632Z"
   },
   {
    "duration": 304,
    "start_time": "2025-01-12T23:45:36.223Z"
   },
   {
    "duration": 55,
    "start_time": "2025-01-12T23:45:36.529Z"
   },
   {
    "duration": 26,
    "start_time": "2025-01-12T23:45:36.586Z"
   },
   {
    "duration": 41,
    "start_time": "2025-01-12T23:47:33.557Z"
   },
   {
    "duration": 41,
    "start_time": "2025-01-12T23:47:45.342Z"
   },
   {
    "duration": 46,
    "start_time": "2025-01-12T23:48:07.377Z"
   },
   {
    "duration": 33,
    "start_time": "2025-01-12T23:48:15.604Z"
   },
   {
    "duration": 969,
    "start_time": "2025-01-13T17:36:49.487Z"
   },
   {
    "duration": 37,
    "start_time": "2025-01-13T17:36:50.458Z"
   },
   {
    "duration": 22,
    "start_time": "2025-01-13T17:36:50.499Z"
   },
   {
    "duration": 26,
    "start_time": "2025-01-13T17:36:50.524Z"
   },
   {
    "duration": 5,
    "start_time": "2025-01-13T17:36:50.568Z"
   },
   {
    "duration": 4,
    "start_time": "2025-01-13T17:36:50.575Z"
   },
   {
    "duration": 10,
    "start_time": "2025-01-13T17:36:50.581Z"
   },
   {
    "duration": 30,
    "start_time": "2025-01-13T17:36:50.593Z"
   },
   {
    "duration": 36,
    "start_time": "2025-01-13T17:36:50.626Z"
   },
   {
    "duration": 396,
    "start_time": "2025-01-13T17:36:50.669Z"
   },
   {
    "duration": 22,
    "start_time": "2025-01-13T17:36:51.067Z"
   },
   {
    "duration": 24,
    "start_time": "2025-01-13T17:36:51.091Z"
   },
   {
    "duration": 25,
    "start_time": "2025-01-13T17:36:51.117Z"
   },
   {
    "duration": 7,
    "start_time": "2025-01-13T17:36:51.147Z"
   },
   {
    "duration": 51,
    "start_time": "2025-01-13T17:36:51.160Z"
   },
   {
    "duration": 48,
    "start_time": "2025-01-13T17:36:51.230Z"
   },
   {
    "duration": 437,
    "start_time": "2025-01-13T17:36:51.282Z"
   },
   {
    "duration": 73,
    "start_time": "2025-01-13T17:36:51.721Z"
   },
   {
    "duration": 169,
    "start_time": "2025-01-13T17:36:51.833Z"
   },
   {
    "duration": 212,
    "start_time": "2025-01-13T17:36:52.004Z"
   },
   {
    "duration": 67,
    "start_time": "2025-01-13T17:36:52.218Z"
   },
   {
    "duration": 31,
    "start_time": "2025-01-13T17:36:52.286Z"
   },
   {
    "duration": 187,
    "start_time": "2025-01-13T17:36:52.319Z"
   },
   {
    "duration": 385,
    "start_time": "2025-01-13T17:36:52.508Z"
   },
   {
    "duration": 36839,
    "start_time": "2025-01-13T17:36:52.895Z"
   },
   {
    "duration": 358,
    "start_time": "2025-01-13T17:37:29.744Z"
   },
   {
    "duration": 91,
    "start_time": "2025-01-13T17:37:30.104Z"
   },
   {
    "duration": 48,
    "start_time": "2025-01-13T17:37:30.199Z"
   }
  ],
  "kernelspec": {
   "display_name": "Python 3 (ipykernel)",
   "language": "python",
   "name": "python3"
  },
  "language_info": {
   "codemirror_mode": {
    "name": "ipython",
    "version": 3
   },
   "file_extension": ".py",
   "mimetype": "text/x-python",
   "name": "python",
   "nbconvert_exporter": "python",
   "pygments_lexer": "ipython3",
   "version": "3.9.19"
  },
  "toc": {
   "base_numbering": 1,
   "nav_menu": {},
   "number_sections": true,
   "sideBar": true,
   "skip_h1_title": true,
   "title_cell": "Table of Contents",
   "title_sidebar": "Contents",
   "toc_cell": false,
   "toc_position": {},
   "toc_section_display": true,
   "toc_window_display": false
  }
 },
 "nbformat": 4,
 "nbformat_minor": 2
}
